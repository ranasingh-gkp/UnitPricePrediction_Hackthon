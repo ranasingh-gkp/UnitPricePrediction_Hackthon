{
 "cells": [
  {
   "cell_type": "code",
   "execution_count": 1,
   "metadata": {},
   "outputs": [],
   "source": [
    "import pandas as pd\n",
    "import numpy as np\n",
    "import datetime as dt\n",
    "import matplotlib.pyplot as plt\n",
    "from scipy.stats import pearsonr"
   ]
  },
  {
   "cell_type": "code",
   "execution_count": 2,
   "metadata": {},
   "outputs": [
    {
     "data": {
      "text/html": [
       "<div>\n",
       "<style scoped>\n",
       "    .dataframe tbody tr th:only-of-type {\n",
       "        vertical-align: middle;\n",
       "    }\n",
       "\n",
       "    .dataframe tbody tr th {\n",
       "        vertical-align: top;\n",
       "    }\n",
       "\n",
       "    .dataframe thead th {\n",
       "        text-align: right;\n",
       "    }\n",
       "</style>\n",
       "<table border=\"1\" class=\"dataframe\">\n",
       "  <thead>\n",
       "    <tr style=\"text-align: right;\">\n",
       "      <th></th>\n",
       "      <th>InvoiceNo</th>\n",
       "      <th>StockCode</th>\n",
       "      <th>Description</th>\n",
       "      <th>Quantity</th>\n",
       "      <th>InvoiceDate</th>\n",
       "      <th>UnitPrice</th>\n",
       "      <th>CustomerID</th>\n",
       "      <th>Country</th>\n",
       "    </tr>\n",
       "  </thead>\n",
       "  <tbody>\n",
       "    <tr>\n",
       "      <th>0</th>\n",
       "      <td>6141</td>\n",
       "      <td>1583</td>\n",
       "      <td>144</td>\n",
       "      <td>3</td>\n",
       "      <td>2011-05-06 16:54:00</td>\n",
       "      <td>3.75</td>\n",
       "      <td>14056.0</td>\n",
       "      <td>35</td>\n",
       "    </tr>\n",
       "    <tr>\n",
       "      <th>1</th>\n",
       "      <td>6349</td>\n",
       "      <td>1300</td>\n",
       "      <td>3682</td>\n",
       "      <td>6</td>\n",
       "      <td>2011-05-11 07:35:00</td>\n",
       "      <td>1.95</td>\n",
       "      <td>13098.0</td>\n",
       "      <td>35</td>\n",
       "    </tr>\n",
       "    <tr>\n",
       "      <th>2</th>\n",
       "      <td>16783</td>\n",
       "      <td>2178</td>\n",
       "      <td>1939</td>\n",
       "      <td>4</td>\n",
       "      <td>2011-11-20 13:20:00</td>\n",
       "      <td>5.95</td>\n",
       "      <td>15044.0</td>\n",
       "      <td>35</td>\n",
       "    </tr>\n",
       "    <tr>\n",
       "      <th>3</th>\n",
       "      <td>16971</td>\n",
       "      <td>2115</td>\n",
       "      <td>2983</td>\n",
       "      <td>1</td>\n",
       "      <td>2011-11-22 12:07:00</td>\n",
       "      <td>0.83</td>\n",
       "      <td>15525.0</td>\n",
       "      <td>35</td>\n",
       "    </tr>\n",
       "    <tr>\n",
       "      <th>4</th>\n",
       "      <td>6080</td>\n",
       "      <td>1210</td>\n",
       "      <td>2886</td>\n",
       "      <td>12</td>\n",
       "      <td>2011-05-06 09:00:00</td>\n",
       "      <td>1.65</td>\n",
       "      <td>13952.0</td>\n",
       "      <td>35</td>\n",
       "    </tr>\n",
       "  </tbody>\n",
       "</table>\n",
       "</div>"
      ],
      "text/plain": [
       "   InvoiceNo  StockCode  Description  Quantity          InvoiceDate  \\\n",
       "0       6141       1583          144         3  2011-05-06 16:54:00   \n",
       "1       6349       1300         3682         6  2011-05-11 07:35:00   \n",
       "2      16783       2178         1939         4  2011-11-20 13:20:00   \n",
       "3      16971       2115         2983         1  2011-11-22 12:07:00   \n",
       "4       6080       1210         2886        12  2011-05-06 09:00:00   \n",
       "\n",
       "   UnitPrice  CustomerID  Country  \n",
       "0       3.75     14056.0       35  \n",
       "1       1.95     13098.0       35  \n",
       "2       5.95     15044.0       35  \n",
       "3       0.83     15525.0       35  \n",
       "4       1.65     13952.0       35  "
      ]
     },
     "execution_count": 2,
     "metadata": {},
     "output_type": "execute_result"
    }
   ],
   "source": [
    "# Set dataset path\n",
    "dataset_path = \"Participants_Data_TGIH\\Participants_Data_TGIH\\Train.csv\"\n",
    "\n",
    "# Read csv into pandas dataframe\n",
    "train_data = pd.read_csv(dataset_path)\n",
    "\n",
    "# print top 5 rows\n",
    "train_data.head()"
   ]
  },
  {
   "cell_type": "code",
   "execution_count": 3,
   "metadata": {},
   "outputs": [
    {
     "data": {
      "text/html": [
       "<div>\n",
       "<style scoped>\n",
       "    .dataframe tbody tr th:only-of-type {\n",
       "        vertical-align: middle;\n",
       "    }\n",
       "\n",
       "    .dataframe tbody tr th {\n",
       "        vertical-align: top;\n",
       "    }\n",
       "\n",
       "    .dataframe thead th {\n",
       "        text-align: right;\n",
       "    }\n",
       "</style>\n",
       "<table border=\"1\" class=\"dataframe\">\n",
       "  <thead>\n",
       "    <tr style=\"text-align: right;\">\n",
       "      <th></th>\n",
       "      <th>InvoiceNo</th>\n",
       "      <th>StockCode</th>\n",
       "      <th>Description</th>\n",
       "      <th>Quantity</th>\n",
       "      <th>UnitPrice</th>\n",
       "      <th>CustomerID</th>\n",
       "      <th>Country</th>\n",
       "      <th>timestamp</th>\n",
       "    </tr>\n",
       "  </thead>\n",
       "  <tbody>\n",
       "    <tr>\n",
       "      <th>0</th>\n",
       "      <td>6141</td>\n",
       "      <td>1583</td>\n",
       "      <td>144</td>\n",
       "      <td>3</td>\n",
       "      <td>3.75</td>\n",
       "      <td>14056.0</td>\n",
       "      <td>35</td>\n",
       "      <td>1304.70084</td>\n",
       "    </tr>\n",
       "    <tr>\n",
       "      <th>1</th>\n",
       "      <td>6349</td>\n",
       "      <td>1300</td>\n",
       "      <td>3682</td>\n",
       "      <td>6</td>\n",
       "      <td>1.95</td>\n",
       "      <td>13098.0</td>\n",
       "      <td>35</td>\n",
       "      <td>1305.09930</td>\n",
       "    </tr>\n",
       "    <tr>\n",
       "      <th>2</th>\n",
       "      <td>16783</td>\n",
       "      <td>2178</td>\n",
       "      <td>1939</td>\n",
       "      <td>4</td>\n",
       "      <td>5.95</td>\n",
       "      <td>15044.0</td>\n",
       "      <td>35</td>\n",
       "      <td>1321.79520</td>\n",
       "    </tr>\n",
       "    <tr>\n",
       "      <th>3</th>\n",
       "      <td>16971</td>\n",
       "      <td>2115</td>\n",
       "      <td>2983</td>\n",
       "      <td>1</td>\n",
       "      <td>0.83</td>\n",
       "      <td>15525.0</td>\n",
       "      <td>35</td>\n",
       "      <td>1321.96362</td>\n",
       "    </tr>\n",
       "    <tr>\n",
       "      <th>4</th>\n",
       "      <td>6080</td>\n",
       "      <td>1210</td>\n",
       "      <td>2886</td>\n",
       "      <td>12</td>\n",
       "      <td>1.65</td>\n",
       "      <td>13952.0</td>\n",
       "      <td>35</td>\n",
       "      <td>1304.67240</td>\n",
       "    </tr>\n",
       "  </tbody>\n",
       "</table>\n",
       "</div>"
      ],
      "text/plain": [
       "   InvoiceNo  StockCode  Description  Quantity  UnitPrice  CustomerID  \\\n",
       "0       6141       1583          144         3       3.75     14056.0   \n",
       "1       6349       1300         3682         6       1.95     13098.0   \n",
       "2      16783       2178         1939         4       5.95     15044.0   \n",
       "3      16971       2115         2983         1       0.83     15525.0   \n",
       "4       6080       1210         2886        12       1.65     13952.0   \n",
       "\n",
       "   Country   timestamp  \n",
       "0       35  1304.70084  \n",
       "1       35  1305.09930  \n",
       "2       35  1321.79520  \n",
       "3       35  1321.96362  \n",
       "4       35  1304.67240  "
      ]
     },
     "execution_count": 3,
     "metadata": {},
     "output_type": "execute_result"
    }
   ],
   "source": [
    "# Convert invoice date into epoch timestamps\n",
    "train_data['InvoiceDate'] = pd.to_datetime(train_data['InvoiceDate'])\n",
    "train_data['timestamp'] = ((train_data['InvoiceDate'] - dt.datetime(1970,1,1)).dt.total_seconds())/(10**6)\n",
    "train_data.drop(columns=[\"InvoiceDate\"], inplace=True)\n",
    "train_data.head()"
   ]
  },
  {
   "cell_type": "code",
   "execution_count": 4,
   "metadata": {},
   "outputs": [
    {
     "data": {
      "text/html": [
       "<div>\n",
       "<style scoped>\n",
       "    .dataframe tbody tr th:only-of-type {\n",
       "        vertical-align: middle;\n",
       "    }\n",
       "\n",
       "    .dataframe tbody tr th {\n",
       "        vertical-align: top;\n",
       "    }\n",
       "\n",
       "    .dataframe thead th {\n",
       "        text-align: right;\n",
       "    }\n",
       "</style>\n",
       "<table border=\"1\" class=\"dataframe\">\n",
       "  <thead>\n",
       "    <tr style=\"text-align: right;\">\n",
       "      <th></th>\n",
       "      <th>InvoiceNo</th>\n",
       "      <th>StockCode</th>\n",
       "      <th>Description</th>\n",
       "      <th>Quantity</th>\n",
       "      <th>UnitPrice</th>\n",
       "      <th>CustomerID</th>\n",
       "      <th>Country</th>\n",
       "      <th>timestamp</th>\n",
       "    </tr>\n",
       "  </thead>\n",
       "  <tbody>\n",
       "    <tr>\n",
       "      <th>count</th>\n",
       "      <td>284780.000000</td>\n",
       "      <td>284780.000000</td>\n",
       "      <td>284780.000000</td>\n",
       "      <td>284780.000000</td>\n",
       "      <td>284780.000000</td>\n",
       "      <td>284780.000000</td>\n",
       "      <td>284780.000000</td>\n",
       "      <td>284780.000000</td>\n",
       "    </tr>\n",
       "    <tr>\n",
       "      <th>mean</th>\n",
       "      <td>9955.394083</td>\n",
       "      <td>1573.386807</td>\n",
       "      <td>2023.955573</td>\n",
       "      <td>12.028468</td>\n",
       "      <td>3.451216</td>\n",
       "      <td>15288.224278</td>\n",
       "      <td>32.823846</td>\n",
       "      <td>1310.330343</td>\n",
       "    </tr>\n",
       "    <tr>\n",
       "      <th>std</th>\n",
       "      <td>5551.519138</td>\n",
       "      <td>843.604991</td>\n",
       "      <td>1089.812078</td>\n",
       "      <td>295.111588</td>\n",
       "      <td>78.399541</td>\n",
       "      <td>1714.336529</td>\n",
       "      <td>6.743602</td>\n",
       "      <td>9.748515</td>\n",
       "    </tr>\n",
       "    <tr>\n",
       "      <th>min</th>\n",
       "      <td>0.000000</td>\n",
       "      <td>0.000000</td>\n",
       "      <td>0.000000</td>\n",
       "      <td>-80995.000000</td>\n",
       "      <td>0.000000</td>\n",
       "      <td>12346.000000</td>\n",
       "      <td>0.000000</td>\n",
       "      <td>1291.191960</td>\n",
       "    </tr>\n",
       "    <tr>\n",
       "      <th>25%</th>\n",
       "      <td>5069.000000</td>\n",
       "      <td>939.000000</td>\n",
       "      <td>1141.000000</td>\n",
       "      <td>2.000000</td>\n",
       "      <td>1.250000</td>\n",
       "      <td>13953.000000</td>\n",
       "      <td>35.000000</td>\n",
       "      <td>1302.174960</td>\n",
       "    </tr>\n",
       "    <tr>\n",
       "      <th>50%</th>\n",
       "      <td>10310.000000</td>\n",
       "      <td>1521.000000</td>\n",
       "      <td>1987.000000</td>\n",
       "      <td>5.000000</td>\n",
       "      <td>1.950000</td>\n",
       "      <td>15152.000000</td>\n",
       "      <td>35.000000</td>\n",
       "      <td>1312.114080</td>\n",
       "    </tr>\n",
       "    <tr>\n",
       "      <th>75%</th>\n",
       "      <td>14657.000000</td>\n",
       "      <td>2106.000000</td>\n",
       "      <td>2945.000000</td>\n",
       "      <td>12.000000</td>\n",
       "      <td>3.750000</td>\n",
       "      <td>16794.000000</td>\n",
       "      <td>35.000000</td>\n",
       "      <td>1319.118840</td>\n",
       "    </tr>\n",
       "    <tr>\n",
       "      <th>max</th>\n",
       "      <td>22188.000000</td>\n",
       "      <td>3683.000000</td>\n",
       "      <td>3895.000000</td>\n",
       "      <td>80995.000000</td>\n",
       "      <td>38970.000000</td>\n",
       "      <td>18287.000000</td>\n",
       "      <td>36.000000</td>\n",
       "      <td>1323.435000</td>\n",
       "    </tr>\n",
       "  </tbody>\n",
       "</table>\n",
       "</div>"
      ],
      "text/plain": [
       "           InvoiceNo      StockCode    Description       Quantity  \\\n",
       "count  284780.000000  284780.000000  284780.000000  284780.000000   \n",
       "mean     9955.394083    1573.386807    2023.955573      12.028468   \n",
       "std      5551.519138     843.604991    1089.812078     295.111588   \n",
       "min         0.000000       0.000000       0.000000  -80995.000000   \n",
       "25%      5069.000000     939.000000    1141.000000       2.000000   \n",
       "50%     10310.000000    1521.000000    1987.000000       5.000000   \n",
       "75%     14657.000000    2106.000000    2945.000000      12.000000   \n",
       "max     22188.000000    3683.000000    3895.000000   80995.000000   \n",
       "\n",
       "           UnitPrice     CustomerID        Country      timestamp  \n",
       "count  284780.000000  284780.000000  284780.000000  284780.000000  \n",
       "mean        3.451216   15288.224278      32.823846    1310.330343  \n",
       "std        78.399541    1714.336529       6.743602       9.748515  \n",
       "min         0.000000   12346.000000       0.000000    1291.191960  \n",
       "25%         1.250000   13953.000000      35.000000    1302.174960  \n",
       "50%         1.950000   15152.000000      35.000000    1312.114080  \n",
       "75%         3.750000   16794.000000      35.000000    1319.118840  \n",
       "max     38970.000000   18287.000000      36.000000    1323.435000  "
      ]
     },
     "execution_count": 4,
     "metadata": {},
     "output_type": "execute_result"
    }
   ],
   "source": [
    "train_data.describe()"
   ]
  },
  {
   "cell_type": "code",
   "execution_count": 5,
   "metadata": {},
   "outputs": [
    {
     "data": {
      "text/plain": [
       "[Text(0, 0.5, 'UnitPrice'), Text(0.5, 0, 'timestamp')]"
      ]
     },
     "execution_count": 5,
     "metadata": {},
     "output_type": "execute_result"
    },
    {
     "data": {
      "image/png": "[encoded data removed]",
      "text/plain": [
       "<Figure size 1296x1296 with 8 Axes>"
      ]
     },
     "metadata": {
      "needs_background": "light"
     },
     "output_type": "display_data"
    }
   ],
   "source": [
    "# plot scatter diagrams of all other variables in realtion with unitPrice to find out any outliers\n",
    "fig, axs = plt.subplots(4, 2, figsize=(18, 18))\n",
    "plt.subplots_adjust(hspace=0.5)\n",
    "\n",
    "# Plot for Country vs UnitPrice\n",
    "axs[0, 0].scatter(train_data[\"Country\"], train_data[\"UnitPrice\"])\n",
    "axs[0, 0].set_title('Country/UnitPrice \\n corr = {}'.format(pearsonr(train_data[\"Country\"],train_data[\"UnitPrice\"])[0]))\n",
    "axs[0, 0].set(xlabel='Country', ylabel='UnitPrice')\n",
    "\n",
    "# Plot for CustomerID vs UnitPrice\n",
    "axs[0, 1].scatter(train_data[\"CustomerID\"], train_data[\"UnitPrice\"])\n",
    "axs[0, 1].set_title('CustomerID/UnitPrice \\n corr = {}'.format(pearsonr(train_data[\"CustomerID\"],train_data[\"UnitPrice\"])[0]))\n",
    "axs[0, 1].set(xlabel='CustomerID', ylabel='UnitPrice')\n",
    "\n",
    "# Plot for Quantity vs UnitPrice\n",
    "axs[1, 0].scatter(train_data[\"Quantity\"], train_data[\"UnitPrice\"])\n",
    "axs[1, 0].set_title('Quantity/UnitPrice \\n corr = {}'.format(pearsonr(train_data[\"Quantity\"],train_data[\"UnitPrice\"])[0]))\n",
    "axs[1, 0].set(xlabel='Quantity', ylabel='UnitPrice')\n",
    "\n",
    "# Plot for Discription vs UnitPrice\n",
    "axs[1, 1].scatter(train_data[\"Description\"], train_data[\"UnitPrice\"])\n",
    "axs[1, 1].set_title('Description/UnitPrice \\n corr = {}'.format(pearsonr(train_data[\"Description\"],train_data[\"UnitPrice\"])[0]))\n",
    "axs[1, 1].set(xlabel='Description', ylabel='UnitPrice')\n",
    "\n",
    "# Plot for StockCode vs UnitPrice\n",
    "axs[2, 0].scatter(train_data[\"StockCode\"], train_data[\"UnitPrice\"])\n",
    "axs[2, 0].set_title('StockCode/UnitPrice \\n corr = {}'.format(pearsonr(train_data[\"StockCode\"],train_data[\"UnitPrice\"])[0]))\n",
    "axs[2, 0].set(xlabel='StockCode', ylabel='UnitPrice')\n",
    "\n",
    "# Plot for InvoiceNo vs UnitPrice\n",
    "axs[2, 1].scatter(train_data[\"InvoiceNo\"], train_data[\"UnitPrice\"])\n",
    "axs[2, 1].set_title('InvoiceNo/UnitPrice \\n corr ={}'.format(pearsonr(train_data[\"InvoiceNo\"],train_data[\"UnitPrice\"])[0]))\n",
    "axs[2, 1].set(xlabel='InvoiceNo', ylabel='UnitPrice')\n",
    "\n",
    "# Plot for timestamp vs UnitPrice\n",
    "axs[3, 0].scatter(train_data[\"timestamp\"], train_data[\"UnitPrice\"])\n",
    "axs[3, 0].set_title('timestamp/UnitPrice \\n corr ={}'.format(pearsonr(train_data[\"timestamp\"],train_data[\"UnitPrice\"])[0]))\n",
    "axs[3, 0].set(xlabel='timestamp', ylabel='UnitPrice')"
   ]
  },
  {
   "cell_type": "code",
   "execution_count": 6,
   "metadata": {
    "scrolled": true
   },
   "outputs": [],
   "source": [
    "# saving Correlation for later comparision\n",
    "correlations = train_data.corrwith(train_data[\"UnitPrice\"],method='pearson').to_frame(name=\"correlation with UnitPrice Before\")"
   ]
  },
  {
   "cell_type": "markdown",
   "metadata": {},
   "source": [
    "## Some key points to note based on above charts\n",
    "* first, quantity seem to be symmetric for its min and max 2 values. Need further investigation\n",
    "* Surprisingly, Quantity have lowest pearson correaltion coeffiecient with unitPrice\n",
    "* There are very few outliers in each for each chart specifically those two data points are very farther than rest of the data. So, we will get rid of those data-points because this might affect model test accuacy\n",
    "\n",
    "## Investigating Qunatity column outliers"
   ]
  },
  {
   "cell_type": "code",
   "execution_count": 7,
   "metadata": {},
   "outputs": [
    {
     "data": {
      "text/html": [
       "<style  type=\"text/css\" >\n",
       "</style><table id=\"T_de771e18_27cf_11eb_a611_689423ee32dc\" ><thead>    <tr>        <th class=\"blank level0\" ></th>        <th class=\"col_heading level0 col0\" >InvoiceNo</th>        <th class=\"col_heading level0 col1\" >StockCode</th>        <th class=\"col_heading level0 col2\" >Description</th>        <th class=\"col_heading level0 col3\" >Quantity</th>        <th class=\"col_heading level0 col4\" >UnitPrice</th>        <th class=\"col_heading level0 col5\" >CustomerID</th>        <th class=\"col_heading level0 col6\" >Country</th>        <th class=\"col_heading level0 col7\" >timestamp</th>    </tr></thead><tbody>\n",
       "                <tr>\n",
       "                        <th id=\"T_de771e18_27cf_11eb_a611_689423ee32dclevel0_row0\" class=\"row_heading level0 row0\" >180978</th>\n",
       "                        <td id=\"T_de771e18_27cf_11eb_a611_689423ee32dcrow0_col0\" class=\"data row0 col0\" >22185</td>\n",
       "                        <td id=\"T_de771e18_27cf_11eb_a611_689423ee32dcrow0_col1\" class=\"data row0 col1\" >2403</td>\n",
       "                        <td id=\"T_de771e18_27cf_11eb_a611_689423ee32dcrow0_col2\" class=\"data row0 col2\" >2329</td>\n",
       "                        <td id=\"T_de771e18_27cf_11eb_a611_689423ee32dcrow0_col3\" class=\"data row0 col3\" >-80995</td>\n",
       "                        <td id=\"T_de771e18_27cf_11eb_a611_689423ee32dcrow0_col4\" class=\"data row0 col4\" >2.080000</td>\n",
       "                        <td id=\"T_de771e18_27cf_11eb_a611_689423ee32dcrow0_col5\" class=\"data row0 col5\" >16446.000000</td>\n",
       "                        <td id=\"T_de771e18_27cf_11eb_a611_689423ee32dcrow0_col6\" class=\"data row0 col6\" >35</td>\n",
       "                        <td id=\"T_de771e18_27cf_11eb_a611_689423ee32dcrow0_col7\" class=\"data row0 col7\" >1323.422820</td>\n",
       "            </tr>\n",
       "            <tr>\n",
       "                        <th id=\"T_de771e18_27cf_11eb_a611_689423ee32dclevel0_row1\" class=\"row_heading level0 row1\" >271013</th>\n",
       "                        <td id=\"T_de771e18_27cf_11eb_a611_689423ee32dcrow1_col0\" class=\"data row1 col0\" >18958</td>\n",
       "                        <td id=\"T_de771e18_27cf_11eb_a611_689423ee32dcrow1_col1\" class=\"data row1 col1\" >2001</td>\n",
       "                        <td id=\"T_de771e18_27cf_11eb_a611_689423ee32dcrow1_col2\" class=\"data row1 col2\" >2002</td>\n",
       "                        <td id=\"T_de771e18_27cf_11eb_a611_689423ee32dcrow1_col3\" class=\"data row1 col3\" >-74215</td>\n",
       "                        <td id=\"T_de771e18_27cf_11eb_a611_689423ee32dcrow1_col4\" class=\"data row1 col4\" >1.040000</td>\n",
       "                        <td id=\"T_de771e18_27cf_11eb_a611_689423ee32dcrow1_col5\" class=\"data row1 col5\" >12346.000000</td>\n",
       "                        <td id=\"T_de771e18_27cf_11eb_a611_689423ee32dcrow1_col6\" class=\"data row1 col6\" >35</td>\n",
       "                        <td id=\"T_de771e18_27cf_11eb_a611_689423ee32dcrow1_col7\" class=\"data row1 col7\" >1295.345820</td>\n",
       "            </tr>\n",
       "    </tbody></table>"
      ],
      "text/plain": [
       "<pandas.io.formats.style.Styler at 0x10a29890>"
      ]
     },
     "execution_count": 7,
     "metadata": {},
     "output_type": "execute_result"
    }
   ],
   "source": [
    "# Investigating Quantity\n",
    "outliers = train_data[train_data['Quantity'] <= -20000]\n",
    "outliers.style"
   ]
  },
  {
   "cell_type": "code",
   "execution_count": 8,
   "metadata": {},
   "outputs": [
    {
     "data": {
      "text/html": [
       "<style  type=\"text/css\" >\n",
       "</style><table id=\"T_de799fde_27cf_11eb_807f_689423ee32dc\" ><thead>    <tr>        <th class=\"blank level0\" ></th>        <th class=\"col_heading level0 col0\" >InvoiceNo</th>        <th class=\"col_heading level0 col1\" >StockCode</th>        <th class=\"col_heading level0 col2\" >Description</th>        <th class=\"col_heading level0 col3\" >Quantity</th>        <th class=\"col_heading level0 col4\" >UnitPrice</th>        <th class=\"col_heading level0 col5\" >CustomerID</th>        <th class=\"col_heading level0 col6\" >Country</th>        <th class=\"col_heading level0 col7\" >timestamp</th>    </tr></thead><tbody>\n",
       "                <tr>\n",
       "                        <th id=\"T_de799fde_27cf_11eb_807f_689423ee32dclevel0_row0\" class=\"row_heading level0 row0\" >141379</th>\n",
       "                        <td id=\"T_de799fde_27cf_11eb_807f_689423ee32dcrow0_col0\" class=\"data row0 col0\" >1909</td>\n",
       "                        <td id=\"T_de799fde_27cf_11eb_807f_689423ee32dcrow0_col1\" class=\"data row0 col1\" >2001</td>\n",
       "                        <td id=\"T_de799fde_27cf_11eb_807f_689423ee32dcrow0_col2\" class=\"data row0 col2\" >2002</td>\n",
       "                        <td id=\"T_de799fde_27cf_11eb_807f_689423ee32dcrow0_col3\" class=\"data row0 col3\" >74215</td>\n",
       "                        <td id=\"T_de799fde_27cf_11eb_807f_689423ee32dcrow0_col4\" class=\"data row0 col4\" >1.040000</td>\n",
       "                        <td id=\"T_de799fde_27cf_11eb_807f_689423ee32dcrow0_col5\" class=\"data row0 col5\" >12346.000000</td>\n",
       "                        <td id=\"T_de799fde_27cf_11eb_807f_689423ee32dcrow0_col6\" class=\"data row0 col6\" >35</td>\n",
       "                        <td id=\"T_de799fde_27cf_11eb_807f_689423ee32dcrow0_col7\" class=\"data row0 col7\" >1295.344860</td>\n",
       "            </tr>\n",
       "            <tr>\n",
       "                        <th id=\"T_de799fde_27cf_11eb_807f_689423ee32dclevel0_row1\" class=\"row_heading level0 row1\" >210734</th>\n",
       "                        <td id=\"T_de799fde_27cf_11eb_807f_689423ee32dcrow1_col0\" class=\"data row1 col0\" >18503</td>\n",
       "                        <td id=\"T_de799fde_27cf_11eb_807f_689423ee32dcrow1_col1\" class=\"data row1 col1\" >2403</td>\n",
       "                        <td id=\"T_de799fde_27cf_11eb_807f_689423ee32dcrow1_col2\" class=\"data row1 col2\" >2329</td>\n",
       "                        <td id=\"T_de799fde_27cf_11eb_807f_689423ee32dcrow1_col3\" class=\"data row1 col3\" >80995</td>\n",
       "                        <td id=\"T_de799fde_27cf_11eb_807f_689423ee32dcrow1_col4\" class=\"data row1 col4\" >2.080000</td>\n",
       "                        <td id=\"T_de799fde_27cf_11eb_807f_689423ee32dcrow1_col5\" class=\"data row1 col5\" >16446.000000</td>\n",
       "                        <td id=\"T_de799fde_27cf_11eb_807f_689423ee32dcrow1_col6\" class=\"data row1 col6\" >35</td>\n",
       "                        <td id=\"T_de799fde_27cf_11eb_807f_689423ee32dcrow1_col7\" class=\"data row1 col7\" >1323.422100</td>\n",
       "            </tr>\n",
       "    </tbody></table>"
      ],
      "text/plain": [
       "<pandas.io.formats.style.Styler at 0x10a29530>"
      ]
     },
     "execution_count": 8,
     "metadata": {},
     "output_type": "execute_result"
    }
   ],
   "source": [
    "outliers = train_data[train_data['Quantity'] >= 20000]\n",
    "outliers.style"
   ]
  },
  {
   "cell_type": "markdown",
   "metadata": {},
   "source": [
    "* Excatly as I suspected this two data point are very far and symetrical for UnitPrice\n",
    "* So, I decided to drop this 4 entries"
   ]
  },
  {
   "cell_type": "code",
   "execution_count": 9,
   "metadata": {},
   "outputs": [
    {
     "name": "stdout",
     "output_type": "stream",
     "text": [
      "rows before dropping the rows 284780\n",
      "Correlation before dropping the rows -0.0009240275617012024\n",
      "\n",
      "rows before dropping the rows 284776\n",
      "Correlation After dropping the rows -0.005640884500777312\n"
     ]
    }
   ],
   "source": [
    "# Deleting all the Rows\n",
    "\n",
    "print(\"rows before dropping the rows {}\".format(len((train_data.index))))\n",
    "print(\"Correlation before dropping the rows\", pearsonr(train_data[\"Quantity\"],train_data[\"UnitPrice\"])[0])\n",
    "\n",
    "train_data.drop(train_data[train_data['Quantity'] <= -20000].index, inplace=True) \n",
    "train_data.drop(train_data[train_data['Quantity'] >= 20000].index, inplace=True) \n",
    "\n",
    "print(\"\\nrows before dropping the rows {}\".format(len((train_data.index))))\n",
    "print(\"Correlation After dropping the rows\", pearsonr(train_data[\"Quantity\"],train_data[\"UnitPrice\"])[0])"
   ]
  },
  {
   "cell_type": "markdown",
   "metadata": {},
   "source": [
    "## Investigating UnitPrice Column outliers"
   ]
  },
  {
   "cell_type": "code",
   "execution_count": 10,
   "metadata": {},
   "outputs": [
    {
     "data": {
      "text/html": [
       "<style  type=\"text/css\" >\n",
       "</style><table id=\"T_de9edb9e_27cf_11eb_b961_689423ee32dc\" ><thead>    <tr>        <th class=\"blank level0\" ></th>        <th class=\"col_heading level0 col0\" >InvoiceNo</th>        <th class=\"col_heading level0 col1\" >StockCode</th>        <th class=\"col_heading level0 col2\" >Description</th>        <th class=\"col_heading level0 col3\" >Quantity</th>        <th class=\"col_heading level0 col4\" >UnitPrice</th>        <th class=\"col_heading level0 col5\" >CustomerID</th>        <th class=\"col_heading level0 col6\" >Country</th>        <th class=\"col_heading level0 col7\" >timestamp</th>    </tr></thead><tbody>\n",
       "                <tr>\n",
       "                        <th id=\"T_de9edb9e_27cf_11eb_b961_689423ee32dclevel0_row0\" class=\"row_heading level0 row0\" >140723</th>\n",
       "                        <td id=\"T_de9edb9e_27cf_11eb_b961_689423ee32dcrow0_col0\" class=\"data row0 col0\" >20237</td>\n",
       "                        <td id=\"T_de9edb9e_27cf_11eb_b961_689423ee32dcrow0_col1\" class=\"data row0 col1\" >3681</td>\n",
       "                        <td id=\"T_de9edb9e_27cf_11eb_b961_689423ee32dcrow0_col2\" class=\"data row0 col2\" >2140</td>\n",
       "                        <td id=\"T_de9edb9e_27cf_11eb_b961_689423ee32dcrow0_col3\" class=\"data row0 col3\" >-1</td>\n",
       "                        <td id=\"T_de9edb9e_27cf_11eb_b961_689423ee32dcrow0_col4\" class=\"data row0 col4\" >38970.000000</td>\n",
       "                        <td id=\"T_de9edb9e_27cf_11eb_b961_689423ee32dcrow0_col5\" class=\"data row0 col5\" >15098.000000</td>\n",
       "                        <td id=\"T_de9edb9e_27cf_11eb_b961_689423ee32dcrow0_col6\" class=\"data row0 col6\" >35</td>\n",
       "                        <td id=\"T_de9edb9e_27cf_11eb_b961_689423ee32dcrow0_col7\" class=\"data row0 col7\" >1307.719860</td>\n",
       "            </tr>\n",
       "            <tr>\n",
       "                        <th id=\"T_de9edb9e_27cf_11eb_b961_689423ee32dclevel0_row1\" class=\"row_heading level0 row1\" >239556</th>\n",
       "                        <td id=\"T_de9edb9e_27cf_11eb_b961_689423ee32dcrow1_col0\" class=\"data row1 col0\" >19848</td>\n",
       "                        <td id=\"T_de9edb9e_27cf_11eb_b961_689423ee32dcrow1_col1\" class=\"data row1 col1\" >3683</td>\n",
       "                        <td id=\"T_de9edb9e_27cf_11eb_b961_689423ee32dcrow1_col2\" class=\"data row1 col2\" >2624</td>\n",
       "                        <td id=\"T_de9edb9e_27cf_11eb_b961_689423ee32dcrow1_col3\" class=\"data row1 col3\" >-1</td>\n",
       "                        <td id=\"T_de9edb9e_27cf_11eb_b961_689423ee32dcrow1_col4\" class=\"data row1 col4\" >8142.750000</td>\n",
       "                        <td id=\"T_de9edb9e_27cf_11eb_b961_689423ee32dcrow1_col5\" class=\"data row1 col5\" >16029.000000</td>\n",
       "                        <td id=\"T_de9edb9e_27cf_11eb_b961_689423ee32dcrow1_col6\" class=\"data row1 col6\" >35</td>\n",
       "                        <td id=\"T_de9edb9e_27cf_11eb_b961_689423ee32dcrow1_col7\" class=\"data row1 col7\" >1304.427060</td>\n",
       "            </tr>\n",
       "    </tbody></table>"
      ],
      "text/plain": [
       "<pandas.io.formats.style.Styler at 0x16d8a7b0>"
      ]
     },
     "execution_count": 10,
     "metadata": {},
     "output_type": "execute_result"
    }
   ],
   "source": [
    "# Cleaning outlying data points\n",
    "outliers = train_data[train_data['UnitPrice']>=5000]\n",
    "outliers.style"
   ]
  },
  {
   "cell_type": "markdown",
   "metadata": {},
   "source": [
    "* Yes! there are only 2 data points having UnitPrice above 5000\n",
    "* Let's drop 'em"
   ]
  },
  {
   "cell_type": "code",
   "execution_count": 11,
   "metadata": {},
   "outputs": [
    {
     "name": "stdout",
     "output_type": "stream",
     "text": [
      "rows before dropping the rows 284776\n",
      "rows after dropping the rows 284774\n"
     ]
    }
   ],
   "source": [
    "print(\"rows before dropping the rows {}\".format(len((train_data.index))))\n",
    "train_data.drop(train_data[train_data['UnitPrice'] >= 5000].index, inplace = True) \n",
    "print(\"rows after dropping the rows {}\".format(len((train_data.index))))"
   ]
  },
  {
   "cell_type": "markdown",
   "metadata": {},
   "source": [
    "# Let's see how the correlation is improved after cleaning data\n",
    "* plotting chaarts again"
   ]
  },
  {
   "cell_type": "code",
   "execution_count": 12,
   "metadata": {},
   "outputs": [
    {
     "data": {
      "text/plain": [
       "[Text(0, 0.5, 'UnitPrice'), Text(0.5, 0, 'timestamp')]"
      ]
     },
     "execution_count": 12,
     "metadata": {},
     "output_type": "execute_result"
    },
    {
     "data": {
      "image/png": "[encoded data removed]",
      "text/plain": [
       "<Figure size 1296x1296 with 8 Axes>"
      ]
     },
     "metadata": {
      "needs_background": "light"
     },
     "output_type": "display_data"
    }
   ],
   "source": [
    "# plot scatter diagrams of all other variables in realtion with unitPrice to find out any outliers\n",
    "fig, axs = plt.subplots(4, 2, figsize=(18, 18))\n",
    "plt.subplots_adjust(hspace=0.5)\n",
    "\n",
    "# Plot for Country vs UnitPrice\n",
    "axs[0, 0].scatter(train_data[\"Country\"], train_data[\"UnitPrice\"])\n",
    "axs[0, 0].set_title('Country/UnitPrice \\n corr = {}'.format(pearsonr(train_data[\"Country\"],train_data[\"UnitPrice\"])[0]))\n",
    "axs[0, 0].set(xlabel='Country', ylabel='UnitPrice')\n",
    "\n",
    "# Plot for CustomerID vs UnitPrice\n",
    "axs[0, 1].scatter(train_data[\"CustomerID\"], train_data[\"UnitPrice\"])\n",
    "axs[0, 1].set_title('CustomerID/UnitPrice \\n corr = {}'.format(pearsonr(train_data[\"CustomerID\"],train_data[\"UnitPrice\"])[0]))\n",
    "axs[0, 1].set(xlabel='CustomerID', ylabel='UnitPrice')\n",
    "\n",
    "# Plot for Quantity vs UnitPrice\n",
    "axs[1, 0].scatter(train_data[\"Quantity\"], train_data[\"UnitPrice\"])\n",
    "axs[1, 0].set_title('Quantity/UnitPrice \\n corr = {}'.format(pearsonr(train_data[\"Quantity\"],train_data[\"UnitPrice\"])[0]))\n",
    "axs[1, 0].set(xlabel='Quantity', ylabel='UnitPrice')\n",
    "\n",
    "# Plot for Discription vs UnitPrice\n",
    "axs[1, 1].scatter(train_data[\"Description\"], train_data[\"UnitPrice\"])\n",
    "axs[1, 1].set_title('Description/UnitPrice \\n corr = {}'.format(pearsonr(train_data[\"Description\"],train_data[\"UnitPrice\"])[0]))\n",
    "axs[1, 1].set(xlabel='Description', ylabel='UnitPrice')\n",
    "\n",
    "# Plot for StockCode vs UnitPrice\n",
    "axs[2, 0].scatter(train_data[\"StockCode\"], train_data[\"UnitPrice\"])\n",
    "axs[2, 0].set_title('StockCode/UnitPrice \\n corr = {}'.format(pearsonr(train_data[\"StockCode\"],train_data[\"UnitPrice\"])[0]))\n",
    "axs[2, 0].set(xlabel='StockCode', ylabel='UnitPrice')\n",
    "#axs[2, 0].set_ylim([0, 50])\n",
    "\n",
    "# Plot for InvoiceNo vs UnitPrice\n",
    "axs[2, 1].scatter(train_data[\"InvoiceNo\"], train_data[\"UnitPrice\"])\n",
    "axs[2, 1].set_title('InvoiceNo/UnitPrice \\n corr ={}'.format(pearsonr(train_data[\"InvoiceNo\"],train_data[\"UnitPrice\"])[0]))\n",
    "axs[2, 1].set(xlabel='InvoiceNo', ylabel='UnitPrice')\n",
    "\n",
    "# Plot for timestamp vs UnitPrice\n",
    "axs[3, 0].scatter(train_data[\"timestamp\"], train_data[\"UnitPrice\"])\n",
    "axs[3, 0].set_title('timestamp/UnitPrice \\n corr ={}'.format(pearsonr(train_data[\"timestamp\"],train_data[\"UnitPrice\"])[0]))\n",
    "axs[3, 0].set(xlabel='timestamp', ylabel='UnitPrice')"
   ]
  },
  {
   "cell_type": "markdown",
   "metadata": {},
   "source": [
    "## Comparing the correlations before and after data cleaning\n",
    "Run following cell to view before and after data cleaning correlation"
   ]
  },
  {
   "cell_type": "code",
   "execution_count": 13,
   "metadata": {},
   "outputs": [
    {
     "name": "stdout",
     "output_type": "stream",
     "text": [
      "Correlation of UnitPrice before and after data cleaning\n"
     ]
    },
    {
     "data": {
      "text/html": [
       "<style  type=\"text/css\" >\n",
       "</style><table id=\"T_edc2715a_27cf_11eb_aeae_689423ee32dc\" ><thead>    <tr>        <th class=\"blank level0\" ></th>        <th class=\"col_heading level0 col0\" >correlation with UnitPrice Before</th>        <th class=\"col_heading level0 col1\" >correlation with UnitPrice after</th>    </tr></thead><tbody>\n",
       "                <tr>\n",
       "                        <th id=\"T_edc2715a_27cf_11eb_aeae_689423ee32dclevel0_row0\" class=\"row_heading level0 row0\" >UnitPrice</th>\n",
       "                        <td id=\"T_edc2715a_27cf_11eb_aeae_689423ee32dcrow0_col0\" class=\"data row0 col0\" >1.000000</td>\n",
       "                        <td id=\"T_edc2715a_27cf_11eb_aeae_689423ee32dcrow0_col1\" class=\"data row0 col1\" >1.000000</td>\n",
       "            </tr>\n",
       "            <tr>\n",
       "                        <th id=\"T_edc2715a_27cf_11eb_aeae_689423ee32dclevel0_row1\" class=\"row_heading level0 row1\" >StockCode</th>\n",
       "                        <td id=\"T_edc2715a_27cf_11eb_aeae_689423ee32dcrow1_col0\" class=\"data row1 col0\" >0.020073</td>\n",
       "                        <td id=\"T_edc2715a_27cf_11eb_aeae_689423ee32dcrow1_col1\" class=\"data row1 col1\" >0.048102</td>\n",
       "            </tr>\n",
       "            <tr>\n",
       "                        <th id=\"T_edc2715a_27cf_11eb_aeae_689423ee32dclevel0_row2\" class=\"row_heading level0 row2\" >Country</th>\n",
       "                        <td id=\"T_edc2715a_27cf_11eb_aeae_689423ee32dcrow2_col0\" class=\"data row2 col0\" >-0.005378</td>\n",
       "                        <td id=\"T_edc2715a_27cf_11eb_aeae_689423ee32dcrow2_col1\" class=\"data row2 col1\" >-0.019690</td>\n",
       "            </tr>\n",
       "            <tr>\n",
       "                        <th id=\"T_edc2715a_27cf_11eb_aeae_689423ee32dclevel0_row3\" class=\"row_heading level0 row3\" >Quantity</th>\n",
       "                        <td id=\"T_edc2715a_27cf_11eb_aeae_689423ee32dcrow3_col0\" class=\"data row3 col0\" >-0.000924</td>\n",
       "                        <td id=\"T_edc2715a_27cf_11eb_aeae_689423ee32dcrow3_col1\" class=\"data row3 col1\" >-0.016484</td>\n",
       "            </tr>\n",
       "            <tr>\n",
       "                        <th id=\"T_edc2715a_27cf_11eb_aeae_689423ee32dclevel0_row4\" class=\"row_heading level0 row4\" >CustomerID</th>\n",
       "                        <td id=\"T_edc2715a_27cf_11eb_aeae_689423ee32dcrow4_col0\" class=\"data row4 col0\" >-0.004932</td>\n",
       "                        <td id=\"T_edc2715a_27cf_11eb_aeae_689423ee32dcrow4_col1\" class=\"data row4 col1\" >-0.015910</td>\n",
       "            </tr>\n",
       "            <tr>\n",
       "                        <th id=\"T_edc2715a_27cf_11eb_aeae_689423ee32dclevel0_row5\" class=\"row_heading level0 row5\" >InvoiceNo</th>\n",
       "                        <td id=\"T_edc2715a_27cf_11eb_aeae_689423ee32dcrow5_col0\" class=\"data row5 col0\" >0.007927</td>\n",
       "                        <td id=\"T_edc2715a_27cf_11eb_aeae_689423ee32dcrow5_col1\" class=\"data row5 col1\" >0.013147</td>\n",
       "            </tr>\n",
       "            <tr>\n",
       "                        <th id=\"T_edc2715a_27cf_11eb_aeae_689423ee32dclevel0_row6\" class=\"row_heading level0 row6\" >timestamp</th>\n",
       "                        <td id=\"T_edc2715a_27cf_11eb_aeae_689423ee32dcrow6_col0\" class=\"data row6 col0\" >-0.001699</td>\n",
       "                        <td id=\"T_edc2715a_27cf_11eb_aeae_689423ee32dcrow6_col1\" class=\"data row6 col1\" >-0.003284</td>\n",
       "            </tr>\n",
       "            <tr>\n",
       "                        <th id=\"T_edc2715a_27cf_11eb_aeae_689423ee32dclevel0_row7\" class=\"row_heading level0 row7\" >Description</th>\n",
       "                        <td id=\"T_edc2715a_27cf_11eb_aeae_689423ee32dcrow7_col0\" class=\"data row7 col0\" >-0.000424</td>\n",
       "                        <td id=\"T_edc2715a_27cf_11eb_aeae_689423ee32dcrow7_col1\" class=\"data row7 col1\" >-0.002633</td>\n",
       "            </tr>\n",
       "    </tbody></table>"
      ],
      "text/plain": [
       "<pandas.io.formats.style.Styler at 0x10a0dcb0>"
      ]
     },
     "execution_count": 13,
     "metadata": {},
     "output_type": "execute_result"
    }
   ],
   "source": [
    "# saving Correlation for later comparision\n",
    "print(\"Correlation of UnitPrice before and after data cleaning\")\n",
    "correlation_after = train_data.corrwith(train_data[\"UnitPrice\"],method='pearson').to_frame()\n",
    "correlations[\"correlation with UnitPrice after\"] = correlation_after\n",
    "\n",
    "# Sorting table\n",
    "correlations[\"temp\"]=correlation_after.abs()\n",
    "correlations = correlations.sort_values(\"temp\",ascending=False)\n",
    "correlations.drop(columns=[\"temp\"], inplace=True)\n",
    "correlations.style"
   ]
  },
  {
   "cell_type": "markdown",
   "metadata": {},
   "source": [
    "* great! now correlation is much improved by almost double and more in some cases\n",
    "* Do note that negative sign indicate that the two variables are inversely proportional\n",
    "* correlation with country which is -0.019690 is actually higher than -0.003284 which is correlation with timestamp, Even though mathematically speaking later number is bigger that first.\n",
    "* Table above is sorted from high correlation to lowest desendingly"
   ]
  },
  {
   "cell_type": "code",
   "execution_count": 14,
   "metadata": {},
   "outputs": [
    {
     "data": {
      "text/html": [
       "<div>\n",
       "<style scoped>\n",
       "    .dataframe tbody tr th:only-of-type {\n",
       "        vertical-align: middle;\n",
       "    }\n",
       "\n",
       "    .dataframe tbody tr th {\n",
       "        vertical-align: top;\n",
       "    }\n",
       "\n",
       "    .dataframe thead th {\n",
       "        text-align: right;\n",
       "    }\n",
       "</style>\n",
       "<table border=\"1\" class=\"dataframe\">\n",
       "  <thead>\n",
       "    <tr style=\"text-align: right;\">\n",
       "      <th></th>\n",
       "      <th>InvoiceNo</th>\n",
       "      <th>StockCode</th>\n",
       "      <th>Description</th>\n",
       "      <th>Quantity</th>\n",
       "      <th>UnitPrice</th>\n",
       "      <th>CustomerID</th>\n",
       "      <th>Country</th>\n",
       "      <th>timestamp</th>\n",
       "    </tr>\n",
       "  </thead>\n",
       "  <tbody>\n",
       "    <tr>\n",
       "      <th>count</th>\n",
       "      <td>284774.000000</td>\n",
       "      <td>284774.000000</td>\n",
       "      <td>284774.000000</td>\n",
       "      <td>284774.000000</td>\n",
       "      <td>284774.000000</td>\n",
       "      <td>284774.000000</td>\n",
       "      <td>284774.000000</td>\n",
       "      <td>284774.000000</td>\n",
       "    </tr>\n",
       "    <tr>\n",
       "      <th>mean</th>\n",
       "      <td>9955.246922</td>\n",
       "      <td>1573.363169</td>\n",
       "      <td>2023.951070</td>\n",
       "      <td>12.028728</td>\n",
       "      <td>3.285828</td>\n",
       "      <td>15288.234877</td>\n",
       "      <td>32.823801</td>\n",
       "      <td>1310.330386</td>\n",
       "    </tr>\n",
       "    <tr>\n",
       "      <th>std</th>\n",
       "      <td>5551.396714</td>\n",
       "      <td>843.591744</td>\n",
       "      <td>1089.822655</td>\n",
       "      <td>48.343149</td>\n",
       "      <td>24.125034</td>\n",
       "      <td>1714.333512</td>\n",
       "      <td>6.743665</td>\n",
       "      <td>9.748467</td>\n",
       "    </tr>\n",
       "    <tr>\n",
       "      <th>min</th>\n",
       "      <td>0.000000</td>\n",
       "      <td>0.000000</td>\n",
       "      <td>0.000000</td>\n",
       "      <td>-1930.000000</td>\n",
       "      <td>0.000000</td>\n",
       "      <td>12347.000000</td>\n",
       "      <td>0.000000</td>\n",
       "      <td>1291.191960</td>\n",
       "    </tr>\n",
       "    <tr>\n",
       "      <th>25%</th>\n",
       "      <td>5069.000000</td>\n",
       "      <td>939.000000</td>\n",
       "      <td>1141.000000</td>\n",
       "      <td>2.000000</td>\n",
       "      <td>1.250000</td>\n",
       "      <td>13953.000000</td>\n",
       "      <td>35.000000</td>\n",
       "      <td>1302.174960</td>\n",
       "    </tr>\n",
       "    <tr>\n",
       "      <th>50%</th>\n",
       "      <td>10310.000000</td>\n",
       "      <td>1521.000000</td>\n",
       "      <td>1987.000000</td>\n",
       "      <td>5.000000</td>\n",
       "      <td>1.950000</td>\n",
       "      <td>15152.000000</td>\n",
       "      <td>35.000000</td>\n",
       "      <td>1312.114080</td>\n",
       "    </tr>\n",
       "    <tr>\n",
       "      <th>75%</th>\n",
       "      <td>14657.000000</td>\n",
       "      <td>2106.000000</td>\n",
       "      <td>2945.000000</td>\n",
       "      <td>12.000000</td>\n",
       "      <td>3.750000</td>\n",
       "      <td>16794.000000</td>\n",
       "      <td>35.000000</td>\n",
       "      <td>1319.118840</td>\n",
       "    </tr>\n",
       "    <tr>\n",
       "      <th>max</th>\n",
       "      <td>22188.000000</td>\n",
       "      <td>3683.000000</td>\n",
       "      <td>3895.000000</td>\n",
       "      <td>12540.000000</td>\n",
       "      <td>4161.060000</td>\n",
       "      <td>18287.000000</td>\n",
       "      <td>36.000000</td>\n",
       "      <td>1323.435000</td>\n",
       "    </tr>\n",
       "  </tbody>\n",
       "</table>\n",
       "</div>"
      ],
      "text/plain": [
       "           InvoiceNo      StockCode    Description       Quantity  \\\n",
       "count  284774.000000  284774.000000  284774.000000  284774.000000   \n",
       "mean     9955.246922    1573.363169    2023.951070      12.028728   \n",
       "std      5551.396714     843.591744    1089.822655      48.343149   \n",
       "min         0.000000       0.000000       0.000000   -1930.000000   \n",
       "25%      5069.000000     939.000000    1141.000000       2.000000   \n",
       "50%     10310.000000    1521.000000    1987.000000       5.000000   \n",
       "75%     14657.000000    2106.000000    2945.000000      12.000000   \n",
       "max     22188.000000    3683.000000    3895.000000   12540.000000   \n",
       "\n",
       "           UnitPrice     CustomerID        Country      timestamp  \n",
       "count  284774.000000  284774.000000  284774.000000  284774.000000  \n",
       "mean        3.285828   15288.234877      32.823801    1310.330386  \n",
       "std        24.125034    1714.333512       6.743665       9.748467  \n",
       "min         0.000000   12347.000000       0.000000    1291.191960  \n",
       "25%         1.250000   13953.000000      35.000000    1302.174960  \n",
       "50%         1.950000   15152.000000      35.000000    1312.114080  \n",
       "75%         3.750000   16794.000000      35.000000    1319.118840  \n",
       "max      4161.060000   18287.000000      36.000000    1323.435000  "
      ]
     },
     "execution_count": 14,
     "metadata": {},
     "output_type": "execute_result"
    }
   ],
   "source": [
    "train_data.describe()"
   ]
  },
  {
   "cell_type": "code",
   "execution_count": 15,
   "metadata": {},
   "outputs": [
    {
     "data": {
      "text/plain": [
       "Index(['InvoiceNo', 'StockCode', 'Description', 'Quantity', 'UnitPrice',\n",
       "       'CustomerID', 'Country', 'timestamp'],\n",
       "      dtype='object')"
      ]
     },
     "execution_count": 15,
     "metadata": {},
     "output_type": "execute_result"
    }
   ],
   "source": [
    "train_data.columns"
   ]
  },
  {
   "cell_type": "markdown",
   "metadata": {},
   "source": [
    "* So, my cleaned data is ready. exporting it to csv to use for model training"
   ]
  },
  {
   "cell_type": "code",
   "execution_count": 16,
   "metadata": {},
   "outputs": [],
   "source": [
    "train_data.to_csv(\"Train_cleaned.csv\")"
   ]
  }
 ],
 "metadata": {
  "kernelspec": {
   "display_name": "Python 3",
   "language": "python",
   "name": "python3"
  },
  "language_info": {
   "codemirror_mode": {
    "name": "ipython",
    "version": 3
   },
   "file_extension": ".py",
   "mimetype": "text/x-python",
   "name": "python",
   "nbconvert_exporter": "python",
   "pygments_lexer": "ipython3",
   "version": "3.7.4"
  }
 },
 "nbformat": 4,
 "nbformat_minor": 4
}
