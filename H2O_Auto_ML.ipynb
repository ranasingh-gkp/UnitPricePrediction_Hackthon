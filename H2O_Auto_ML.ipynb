{
  "nbformat": 4,
  "nbformat_minor": 0,
  "metadata": {
    "colab": {
      "name": "Copy of MachineHack.ipynb",
      "provenance": [],
      "toc_visible": true
    },
    "kernelspec": {
      "name": "python3",
      "display_name": "Python 3"
    }
  },
  "cells": [
    {
      "cell_type": "code",
      "metadata": {
        "id": "SuCi3cWcZJM7"
      },
      "source": [
        "import pandas as pd\n",
        "import numpy as np"
      ],
      "execution_count": 1,
      "outputs": []
    },
    {
      "cell_type": "code",
      "metadata": {
        "id": "VnbKTWHqaSsM"
      },
      "source": [
        "train = pd.read_csv('/content/Train.csv')"
      ],
      "execution_count": 2,
      "outputs": []
    },
    {
      "cell_type": "code",
      "metadata": {
        "id": "1mpEa5zPabY6",
        "outputId": "b6eb8e61-ce5c-4e33-aa53-52c3d4c58e44",
        "colab": {
          "base_uri": "https://localhost:8080/",
          "height": 195
        }
      },
      "source": [
        "train.head()"
      ],
      "execution_count": 3,
      "outputs": [
        {
          "output_type": "execute_result",
          "data": {
            "text/html": [
              "<div>\n",
              "<style scoped>\n",
              "    .dataframe tbody tr th:only-of-type {\n",
              "        vertical-align: middle;\n",
              "    }\n",
              "\n",
              "    .dataframe tbody tr th {\n",
              "        vertical-align: top;\n",
              "    }\n",
              "\n",
              "    .dataframe thead th {\n",
              "        text-align: right;\n",
              "    }\n",
              "</style>\n",
              "<table border=\"1\" class=\"dataframe\">\n",
              "  <thead>\n",
              "    <tr style=\"text-align: right;\">\n",
              "      <th></th>\n",
              "      <th>InvoiceNo</th>\n",
              "      <th>StockCode</th>\n",
              "      <th>Description</th>\n",
              "      <th>Quantity</th>\n",
              "      <th>InvoiceDate</th>\n",
              "      <th>UnitPrice</th>\n",
              "      <th>CustomerID</th>\n",
              "      <th>Country</th>\n",
              "    </tr>\n",
              "  </thead>\n",
              "  <tbody>\n",
              "    <tr>\n",
              "      <th>0</th>\n",
              "      <td>6141</td>\n",
              "      <td>1583</td>\n",
              "      <td>144</td>\n",
              "      <td>3</td>\n",
              "      <td>2011-05-06 16:54:00</td>\n",
              "      <td>3.75</td>\n",
              "      <td>14056.0</td>\n",
              "      <td>35</td>\n",
              "    </tr>\n",
              "    <tr>\n",
              "      <th>1</th>\n",
              "      <td>6349</td>\n",
              "      <td>1300</td>\n",
              "      <td>3682</td>\n",
              "      <td>6</td>\n",
              "      <td>2011-05-11 07:35:00</td>\n",
              "      <td>1.95</td>\n",
              "      <td>13098.0</td>\n",
              "      <td>35</td>\n",
              "    </tr>\n",
              "    <tr>\n",
              "      <th>2</th>\n",
              "      <td>16783</td>\n",
              "      <td>2178</td>\n",
              "      <td>1939</td>\n",
              "      <td>4</td>\n",
              "      <td>2011-11-20 13:20:00</td>\n",
              "      <td>5.95</td>\n",
              "      <td>15044.0</td>\n",
              "      <td>35</td>\n",
              "    </tr>\n",
              "    <tr>\n",
              "      <th>3</th>\n",
              "      <td>16971</td>\n",
              "      <td>2115</td>\n",
              "      <td>2983</td>\n",
              "      <td>1</td>\n",
              "      <td>2011-11-22 12:07:00</td>\n",
              "      <td>0.83</td>\n",
              "      <td>15525.0</td>\n",
              "      <td>35</td>\n",
              "    </tr>\n",
              "    <tr>\n",
              "      <th>4</th>\n",
              "      <td>6080</td>\n",
              "      <td>1210</td>\n",
              "      <td>2886</td>\n",
              "      <td>12</td>\n",
              "      <td>2011-05-06 09:00:00</td>\n",
              "      <td>1.65</td>\n",
              "      <td>13952.0</td>\n",
              "      <td>35</td>\n",
              "    </tr>\n",
              "  </tbody>\n",
              "</table>\n",
              "</div>"
            ],
            "text/plain": [
              "   InvoiceNo  StockCode  Description  ...  UnitPrice CustomerID  Country\n",
              "0       6141       1583          144  ...       3.75    14056.0       35\n",
              "1       6349       1300         3682  ...       1.95    13098.0       35\n",
              "2      16783       2178         1939  ...       5.95    15044.0       35\n",
              "3      16971       2115         2983  ...       0.83    15525.0       35\n",
              "4       6080       1210         2886  ...       1.65    13952.0       35\n",
              "\n",
              "[5 rows x 8 columns]"
            ]
          },
          "metadata": {
            "tags": []
          },
          "execution_count": 3
        }
      ]
    },
    {
      "cell_type": "code",
      "metadata": {
        "id": "i3qiZjRJacdI",
        "outputId": "bd65993f-68c4-421c-a99c-f41b43662b22",
        "colab": {
          "base_uri": "https://localhost:8080/"
        }
      },
      "source": [
        "train.info()"
      ],
      "execution_count": 4,
      "outputs": [
        {
          "output_type": "stream",
          "text": [
            "<class 'pandas.core.frame.DataFrame'>\n",
            "RangeIndex: 284780 entries, 0 to 284779\n",
            "Data columns (total 8 columns):\n",
            " #   Column       Non-Null Count   Dtype  \n",
            "---  ------       --------------   -----  \n",
            " 0   InvoiceNo    284780 non-null  int64  \n",
            " 1   StockCode    284780 non-null  int64  \n",
            " 2   Description  284780 non-null  int64  \n",
            " 3   Quantity     284780 non-null  int64  \n",
            " 4   InvoiceDate  284780 non-null  object \n",
            " 5   UnitPrice    284780 non-null  float64\n",
            " 6   CustomerID   284780 non-null  float64\n",
            " 7   Country      284780 non-null  int64  \n",
            "dtypes: float64(2), int64(5), object(1)\n",
            "memory usage: 17.4+ MB\n"
          ],
          "name": "stdout"
        }
      ]
    },
    {
      "cell_type": "code",
      "metadata": {
        "id": "orhI7aFBagme",
        "outputId": "f597718c-2f6f-4f8a-cecb-08a364630dea",
        "colab": {
          "base_uri": "https://localhost:8080/",
          "height": 846
        }
      },
      "source": [
        "!pip install h2o\n",
        "import h2o\n",
        "from h2o.automl import H2OAutoML\n",
        "h2o.init()"
      ],
      "execution_count": 5,
      "outputs": [
        {
          "output_type": "stream",
          "text": [
            "Collecting h2o\n",
            "\u001b[?25l  Downloading https://files.pythonhosted.org/packages/bb/55/494a42e7509d0874aa444ae4cad0bc7439c936b40e563550fbfabb540275/h2o-3.30.1.3.tar.gz (129.4MB)\n",
            "\u001b[K     |████████████████████████████████| 129.4MB 75kB/s \n",
            "\u001b[?25hRequirement already satisfied: requests in /usr/local/lib/python3.6/dist-packages (from h2o) (2.23.0)\n",
            "Requirement already satisfied: tabulate in /usr/local/lib/python3.6/dist-packages (from h2o) (0.8.7)\n",
            "Requirement already satisfied: future in /usr/local/lib/python3.6/dist-packages (from h2o) (0.16.0)\n",
            "Collecting colorama>=0.3.8\n",
            "  Downloading https://files.pythonhosted.org/packages/44/98/5b86278fbbf250d239ae0ecb724f8572af1c91f4a11edf4d36a206189440/colorama-0.4.4-py2.py3-none-any.whl\n",
            "Requirement already satisfied: idna<3,>=2.5 in /usr/local/lib/python3.6/dist-packages (from requests->h2o) (2.10)\n",
            "Requirement already satisfied: chardet<4,>=3.0.2 in /usr/local/lib/python3.6/dist-packages (from requests->h2o) (3.0.4)\n",
            "Requirement already satisfied: certifi>=2017.4.17 in /usr/local/lib/python3.6/dist-packages (from requests->h2o) (2020.6.20)\n",
            "Requirement already satisfied: urllib3!=1.25.0,!=1.25.1,<1.26,>=1.21.1 in /usr/local/lib/python3.6/dist-packages (from requests->h2o) (1.24.3)\n",
            "Building wheels for collected packages: h2o\n",
            "  Building wheel for h2o (setup.py) ... \u001b[?25l\u001b[?25hdone\n",
            "  Created wheel for h2o: filename=h2o-3.30.1.3-py2.py3-none-any.whl size=129446676 sha256=ad1a282c15801112d2a36beed5d9bf896755a8090cd8418fe5ce31cfa4b8e576\n",
            "  Stored in directory: /root/.cache/pip/wheels/3d/e6/07/53ce9be9cb61b33a79cb3ed1fc39f2dae84f6ee6fe1e373e5e\n",
            "Successfully built h2o\n",
            "Installing collected packages: colorama, h2o\n",
            "Successfully installed colorama-0.4.4 h2o-3.30.1.3\n",
            "Checking whether there is an H2O instance running at http://localhost:54321 ..... not found.\n",
            "Attempting to start a local H2O server...\n",
            "  Java Version: openjdk version \"11.0.9\" 2020-10-20; OpenJDK Runtime Environment (build 11.0.9+11-Ubuntu-0ubuntu1.18.04.1); OpenJDK 64-Bit Server VM (build 11.0.9+11-Ubuntu-0ubuntu1.18.04.1, mixed mode, sharing)\n",
            "  Starting server from /usr/local/lib/python3.6/dist-packages/h2o/backend/bin/h2o.jar\n",
            "  Ice root: /tmp/tmps5fnvb4w\n",
            "  JVM stdout: /tmp/tmps5fnvb4w/h2o_unknownUser_started_from_python.out\n",
            "  JVM stderr: /tmp/tmps5fnvb4w/h2o_unknownUser_started_from_python.err\n",
            "  Server is running at http://127.0.0.1:54321\n",
            "Connecting to H2O server at http://127.0.0.1:54321 ... successful.\n"
          ],
          "name": "stdout"
        },
        {
          "output_type": "display_data",
          "data": {
            "text/html": [
              "<div style=\"overflow:auto\"><table style=\"width:50%\"><tr><td>H2O_cluster_uptime:</td>\n",
              "<td>02 secs</td></tr>\n",
              "<tr><td>H2O_cluster_timezone:</td>\n",
              "<td>Etc/UTC</td></tr>\n",
              "<tr><td>H2O_data_parsing_timezone:</td>\n",
              "<td>UTC</td></tr>\n",
              "<tr><td>H2O_cluster_version:</td>\n",
              "<td>3.30.1.3</td></tr>\n",
              "<tr><td>H2O_cluster_version_age:</td>\n",
              "<td>1 month and 12 days </td></tr>\n",
              "<tr><td>H2O_cluster_name:</td>\n",
              "<td>H2O_from_python_unknownUser_45s4m1</td></tr>\n",
              "<tr><td>H2O_cluster_total_nodes:</td>\n",
              "<td>1</td></tr>\n",
              "<tr><td>H2O_cluster_free_memory:</td>\n",
              "<td>3.180 Gb</td></tr>\n",
              "<tr><td>H2O_cluster_total_cores:</td>\n",
              "<td>2</td></tr>\n",
              "<tr><td>H2O_cluster_allowed_cores:</td>\n",
              "<td>2</td></tr>\n",
              "<tr><td>H2O_cluster_status:</td>\n",
              "<td>accepting new members, healthy</td></tr>\n",
              "<tr><td>H2O_connection_url:</td>\n",
              "<td>http://127.0.0.1:54321</td></tr>\n",
              "<tr><td>H2O_connection_proxy:</td>\n",
              "<td>{\"http\": null, \"https\": null}</td></tr>\n",
              "<tr><td>H2O_internal_security:</td>\n",
              "<td>False</td></tr>\n",
              "<tr><td>H2O_API_Extensions:</td>\n",
              "<td>Amazon S3, XGBoost, Algos, AutoML, Core V3, TargetEncoder, Core V4</td></tr>\n",
              "<tr><td>Python_version:</td>\n",
              "<td>3.6.9 final</td></tr></table></div>"
            ],
            "text/plain": [
              "--------------------------  ------------------------------------------------------------------\n",
              "H2O_cluster_uptime:         02 secs\n",
              "H2O_cluster_timezone:       Etc/UTC\n",
              "H2O_data_parsing_timezone:  UTC\n",
              "H2O_cluster_version:        3.30.1.3\n",
              "H2O_cluster_version_age:    1 month and 12 days\n",
              "H2O_cluster_name:           H2O_from_python_unknownUser_45s4m1\n",
              "H2O_cluster_total_nodes:    1\n",
              "H2O_cluster_free_memory:    3.180 Gb\n",
              "H2O_cluster_total_cores:    2\n",
              "H2O_cluster_allowed_cores:  2\n",
              "H2O_cluster_status:         accepting new members, healthy\n",
              "H2O_connection_url:         http://127.0.0.1:54321\n",
              "H2O_connection_proxy:       {\"http\": null, \"https\": null}\n",
              "H2O_internal_security:      False\n",
              "H2O_API_Extensions:         Amazon S3, XGBoost, Algos, AutoML, Core V3, TargetEncoder, Core V4\n",
              "Python_version:             3.6.9 final\n",
              "--------------------------  ------------------------------------------------------------------"
            ]
          },
          "metadata": {
            "tags": []
          }
        }
      ]
    },
    {
      "cell_type": "code",
      "metadata": {
        "id": "7dYS063FbeGK",
        "outputId": "ecd1cedb-82a1-4e7f-f77b-e30d38587253",
        "colab": {
          "base_uri": "https://localhost:8080/"
        }
      },
      "source": [
        "data = h2o.import_file('/content/Train.csv')"
      ],
      "execution_count": 6,
      "outputs": [
        {
          "output_type": "stream",
          "text": [
            "Parse progress: |█████████████████████████████████████████████████████████| 100%\n"
          ],
          "name": "stdout"
        }
      ]
    },
    {
      "cell_type": "code",
      "metadata": {
        "id": "2Ob-QXTzb0MW",
        "outputId": "059dac4d-1402-43cd-86d1-345815569d0c",
        "colab": {
          "base_uri": "https://localhost:8080/"
        }
      },
      "source": [
        "features=data.columns\n",
        "features.remove('UnitPrice')\n",
        "features.remove('CustomerID')\n",
        "features.remove('InvoiceDate')\n",
        "y='UnitPrice'\n",
        "aml = H2OAutoML(max_models=10,seed=1,nfolds=5,verbosity='warn')\n",
        "aml.train(x=features,y='UnitPrice',training_frame = data)"
      ],
      "execution_count": 7,
      "outputs": [
        {
          "output_type": "stream",
          "text": [
            "AutoML progress: |████████████████████████████████████████████████████████| 100%\n"
          ],
          "name": "stdout"
        }
      ]
    },
    {
      "cell_type": "code",
      "metadata": {
        "id": "Wv4eZm2ekV47",
        "outputId": "633d3833-1c3e-43be-8afc-161cf4fd42a8",
        "colab": {
          "base_uri": "https://localhost:8080/",
          "height": 238
        }
      },
      "source": [
        "aml.leaderboard"
      ],
      "execution_count": 8,
      "outputs": [
        {
          "output_type": "display_data",
          "data": {
            "text/html": [
              "<table>\n",
              "<thead>\n",
              "<tr><th>model_id                                           </th><th style=\"text-align: right;\">  mean_residual_deviance</th><th style=\"text-align: right;\">   rmse</th><th style=\"text-align: right;\">    mse</th><th style=\"text-align: right;\">    mae</th><th style=\"text-align: right;\">     rmsle</th></tr>\n",
              "</thead>\n",
              "<tbody>\n",
              "<tr><td>GBM_5_AutoML_20201110_121714                       </td><td style=\"text-align: right;\">                 5976.27</td><td style=\"text-align: right;\">77.3064</td><td style=\"text-align: right;\">5976.27</td><td style=\"text-align: right;\">1.59343</td><td style=\"text-align: right;\">nan       </td></tr>\n",
              "<tr><td>StackedEnsemble_BestOfFamily_AutoML_20201110_121714</td><td style=\"text-align: right;\">                 6034.05</td><td style=\"text-align: right;\">77.6792</td><td style=\"text-align: right;\">6034.05</td><td style=\"text-align: right;\">1.57832</td><td style=\"text-align: right;\">nan       </td></tr>\n",
              "<tr><td>StackedEnsemble_AllModels_AutoML_20201110_121714   </td><td style=\"text-align: right;\">                 6049.98</td><td style=\"text-align: right;\">77.7816</td><td style=\"text-align: right;\">6049.98</td><td style=\"text-align: right;\">1.5843 </td><td style=\"text-align: right;\">nan       </td></tr>\n",
              "<tr><td>GLM_1_AutoML_20201110_121714                       </td><td style=\"text-align: right;\">                 6146.37</td><td style=\"text-align: right;\">78.3988</td><td style=\"text-align: right;\">6146.37</td><td style=\"text-align: right;\">2.84731</td><td style=\"text-align: right;\">  0.693768</td></tr>\n",
              "<tr><td>GBM_3_AutoML_20201110_121714                       </td><td style=\"text-align: right;\">                 6183.67</td><td style=\"text-align: right;\">78.6363</td><td style=\"text-align: right;\">6183.67</td><td style=\"text-align: right;\">2.21015</td><td style=\"text-align: right;\">nan       </td></tr>\n",
              "<tr><td>DRF_1_AutoML_20201110_121714                       </td><td style=\"text-align: right;\">                 6214.17</td><td style=\"text-align: right;\">78.83  </td><td style=\"text-align: right;\">6214.17</td><td style=\"text-align: right;\">2.30767</td><td style=\"text-align: right;\">  0.522553</td></tr>\n",
              "<tr><td>GBM_2_AutoML_20201110_121714                       </td><td style=\"text-align: right;\">                 6222.07</td><td style=\"text-align: right;\">78.8801</td><td style=\"text-align: right;\">6222.07</td><td style=\"text-align: right;\">2.27024</td><td style=\"text-align: right;\">nan       </td></tr>\n",
              "<tr><td>XGBoost_2_AutoML_20201110_121714                   </td><td style=\"text-align: right;\">                 6244.49</td><td style=\"text-align: right;\">79.0221</td><td style=\"text-align: right;\">6244.49</td><td style=\"text-align: right;\">1.53764</td><td style=\"text-align: right;\">nan       </td></tr>\n",
              "<tr><td>GBM_4_AutoML_20201110_121714                       </td><td style=\"text-align: right;\">                 6247.7 </td><td style=\"text-align: right;\">79.0424</td><td style=\"text-align: right;\">6247.7 </td><td style=\"text-align: right;\">1.93111</td><td style=\"text-align: right;\">nan       </td></tr>\n",
              "<tr><td>XGBoost_1_AutoML_20201110_121714                   </td><td style=\"text-align: right;\">                 6818.87</td><td style=\"text-align: right;\">82.5764</td><td style=\"text-align: right;\">6818.87</td><td style=\"text-align: right;\">2.11614</td><td style=\"text-align: right;\">nan       </td></tr>\n",
              "</tbody>\n",
              "</table>"
            ]
          },
          "metadata": {
            "tags": []
          }
        },
        {
          "output_type": "execute_result",
          "data": {
            "text/plain": [
              ""
            ]
          },
          "metadata": {
            "tags": []
          },
          "execution_count": 8
        }
      ]
    },
    {
      "cell_type": "code",
      "metadata": {
        "id": "k4fUQu-ykX4E",
        "outputId": "96b3611a-1aad-40bb-f9fc-f15c2f2e0b17",
        "colab": {
          "base_uri": "https://localhost:8080/"
        }
      },
      "source": [
        "from sklearn.metrics import mean_squared_error\n",
        "test = h2o.import_file('/content/Test.csv')"
      ],
      "execution_count": 9,
      "outputs": [
        {
          "output_type": "stream",
          "text": [
            "Parse progress: |█████████████████████████████████████████████████████████| 100%\n"
          ],
          "name": "stdout"
        }
      ]
    },
    {
      "cell_type": "code",
      "metadata": {
        "id": "67b1vLcBkbus",
        "outputId": "10c2feff-30ce-4bc7-9d05-b1bae3cf6ed8",
        "colab": {
          "base_uri": "https://localhost:8080/"
        }
      },
      "source": [
        "predictions = aml.predict(test)"
      ],
      "execution_count": 10,
      "outputs": [
        {
          "output_type": "stream",
          "text": [
            "gbm prediction progress: |████████████████████████████████████████████████| 100%\n"
          ],
          "name": "stdout"
        }
      ]
    },
    {
      "cell_type": "code",
      "metadata": {
        "id": "J4WNM98Sk62H"
      },
      "source": [
        "submit = pd.DataFrame(predictions.as_data_frame(use_pandas=True)['predict'].tolist())"
      ],
      "execution_count": 11,
      "outputs": []
    },
    {
      "cell_type": "code",
      "metadata": {
        "id": "HHVt3KK8nIgj",
        "outputId": "50e1ab30-1320-4854-e4c0-456be08e2a01",
        "colab": {
          "base_uri": "https://localhost:8080/",
          "height": 402
        }
      },
      "source": [
        "submit.columns=['UnitPrice']\n",
        "submit"
      ],
      "execution_count": 12,
      "outputs": [
        {
          "output_type": "execute_result",
          "data": {
            "text/html": [
              "<div>\n",
              "<style scoped>\n",
              "    .dataframe tbody tr th:only-of-type {\n",
              "        vertical-align: middle;\n",
              "    }\n",
              "\n",
              "    .dataframe tbody tr th {\n",
              "        vertical-align: top;\n",
              "    }\n",
              "\n",
              "    .dataframe thead th {\n",
              "        text-align: right;\n",
              "    }\n",
              "</style>\n",
              "<table border=\"1\" class=\"dataframe\">\n",
              "  <thead>\n",
              "    <tr style=\"text-align: right;\">\n",
              "      <th></th>\n",
              "      <th>UnitPrice</th>\n",
              "    </tr>\n",
              "  </thead>\n",
              "  <tbody>\n",
              "    <tr>\n",
              "      <th>0</th>\n",
              "      <td>1.852142</td>\n",
              "    </tr>\n",
              "    <tr>\n",
              "      <th>1</th>\n",
              "      <td>1.575618</td>\n",
              "    </tr>\n",
              "    <tr>\n",
              "      <th>2</th>\n",
              "      <td>2.933390</td>\n",
              "    </tr>\n",
              "    <tr>\n",
              "      <th>3</th>\n",
              "      <td>1.306669</td>\n",
              "    </tr>\n",
              "    <tr>\n",
              "      <th>4</th>\n",
              "      <td>11.193170</td>\n",
              "    </tr>\n",
              "    <tr>\n",
              "      <th>...</th>\n",
              "      <td>...</td>\n",
              "    </tr>\n",
              "    <tr>\n",
              "      <th>122044</th>\n",
              "      <td>0.762008</td>\n",
              "    </tr>\n",
              "    <tr>\n",
              "      <th>122045</th>\n",
              "      <td>1.592646</td>\n",
              "    </tr>\n",
              "    <tr>\n",
              "      <th>122046</th>\n",
              "      <td>1.210586</td>\n",
              "    </tr>\n",
              "    <tr>\n",
              "      <th>122047</th>\n",
              "      <td>5.221494</td>\n",
              "    </tr>\n",
              "    <tr>\n",
              "      <th>122048</th>\n",
              "      <td>3.825857</td>\n",
              "    </tr>\n",
              "  </tbody>\n",
              "</table>\n",
              "<p>122049 rows × 1 columns</p>\n",
              "</div>"
            ],
            "text/plain": [
              "        UnitPrice\n",
              "0        1.852142\n",
              "1        1.575618\n",
              "2        2.933390\n",
              "3        1.306669\n",
              "4       11.193170\n",
              "...           ...\n",
              "122044   0.762008\n",
              "122045   1.592646\n",
              "122046   1.210586\n",
              "122047   5.221494\n",
              "122048   3.825857\n",
              "\n",
              "[122049 rows x 1 columns]"
            ]
          },
          "metadata": {
            "tags": []
          },
          "execution_count": 12
        }
      ]
    },
    {
      "cell_type": "code",
      "metadata": {
        "id": "Ykzx4ewpk_86",
        "outputId": "ee6097a0-11f7-4c85-cd6d-a767935a03c6",
        "colab": {
          "base_uri": "https://localhost:8080/",
          "height": 17
        }
      },
      "source": [
        "from google.colab import files\n",
        "submit.to_csv('HP1.csv')         \n",
        "files.download('HP1.csv')"
      ],
      "execution_count": null,
      "outputs": [
        {
          "output_type": "display_data",
          "data": {
            "application/javascript": [
              "\n",
              "    async function download(id, filename, size) {\n",
              "      if (!google.colab.kernel.accessAllowed) {\n",
              "        return;\n",
              "      }\n",
              "      const div = document.createElement('div');\n",
              "      const label = document.createElement('label');\n",
              "      label.textContent = `Downloading \"${filename}\": `;\n",
              "      div.appendChild(label);\n",
              "      const progress = document.createElement('progress');\n",
              "      progress.max = size;\n",
              "      div.appendChild(progress);\n",
              "      document.body.appendChild(div);\n",
              "\n",
              "      const buffers = [];\n",
              "      let downloaded = 0;\n",
              "\n",
              "      const channel = await google.colab.kernel.comms.open(id);\n",
              "      // Send a message to notify the kernel that we're ready.\n",
              "      channel.send({})\n",
              "\n",
              "      for await (const message of channel.messages) {\n",
              "        // Send a message to notify the kernel that we're ready.\n",
              "        channel.send({})\n",
              "        if (message.buffers) {\n",
              "          for (const buffer of message.buffers) {\n",
              "            buffers.push(buffer);\n",
              "            downloaded += buffer.byteLength;\n",
              "            progress.value = downloaded;\n",
              "          }\n",
              "        }\n",
              "      }\n",
              "      const blob = new Blob(buffers, {type: 'application/binary'});\n",
              "      const a = document.createElement('a');\n",
              "      a.href = window.URL.createObjectURL(blob);\n",
              "      a.download = filename;\n",
              "      div.appendChild(a);\n",
              "      a.click();\n",
              "      div.remove();\n",
              "    }\n",
              "  "
            ],
            "text/plain": [
              "<IPython.core.display.Javascript object>"
            ]
          },
          "metadata": {
            "tags": []
          }
        },
        {
          "output_type": "display_data",
          "data": {
            "application/javascript": [
              "download(\"download_fd2062b5-f061-4fb6-a0d8-a60e523acdf7\", \"HP1.csv\", 3007954)"
            ],
            "text/plain": [
              "<IPython.core.display.Javascript object>"
            ]
          },
          "metadata": {
            "tags": []
          }
        }
      ]
    },
    {
      "cell_type": "code",
      "metadata": {
        "id": "KoQ0bcNWmHdR"
      },
      "source": [
        ""
      ],
      "execution_count": null,
      "outputs": []
    }
  ]
}